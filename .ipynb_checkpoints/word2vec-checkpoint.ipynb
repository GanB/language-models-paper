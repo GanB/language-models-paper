{
 "cells": [
  {
   "cell_type": "markdown",
   "id": "43aa52be-8d53-4432-b4ab-f1fd2dd8ea04",
   "metadata": {},
   "source": [
    "https://www.geeksforgeeks.org/python-word-embedding-using-word2vec/"
   ]
  },
  {
   "cell_type": "code",
   "execution_count": 4,
   "id": "10891398-0220-4473-9f4c-91c36e79128a",
   "metadata": {},
   "outputs": [
    {
     "name": "stdout",
     "output_type": "stream",
     "text": [
      "Requirement already satisfied: nltk in /Users/ganeshbabu/opt/anaconda3/lib/python3.9/site-packages (3.6.5)\n",
      "Requirement already satisfied: click in /Users/ganeshbabu/opt/anaconda3/lib/python3.9/site-packages (from nltk) (8.0.3)\n",
      "Requirement already satisfied: joblib in /Users/ganeshbabu/opt/anaconda3/lib/python3.9/site-packages (from nltk) (1.1.0)\n",
      "Requirement already satisfied: regex>=2021.8.3 in /Users/ganeshbabu/opt/anaconda3/lib/python3.9/site-packages (from nltk) (2021.8.3)\n",
      "Requirement already satisfied: tqdm in /Users/ganeshbabu/opt/anaconda3/lib/python3.9/site-packages (from nltk) (4.62.3)\n",
      "Note: you may need to restart the kernel to use updated packages.\n"
     ]
    }
   ],
   "source": [
    "pip install nltk"
   ]
  },
  {
   "cell_type": "code",
   "execution_count": 5,
   "id": "f259a593-49b3-46cc-81e1-21ab267500b3",
   "metadata": {},
   "outputs": [
    {
     "name": "stdout",
     "output_type": "stream",
     "text": [
      "Collecting gensim\n",
      "  Downloading gensim-4.2.0-cp39-cp39-macosx_10_9_x86_64.whl (24.0 MB)\n",
      "\u001b[K     |████████████████████████████████| 24.0 MB 1.1 MB/s  eta 0:00:01     |██████████████████████████▊     | 20.0 MB 28.9 MB/s eta 0:00:01\n",
      "\u001b[?25hRequirement already satisfied: numpy>=1.17.0 in /Users/ganeshbabu/opt/anaconda3/lib/python3.9/site-packages (from gensim) (1.20.3)\n",
      "Collecting smart-open>=1.8.1\n",
      "  Downloading smart_open-6.0.0-py3-none-any.whl (58 kB)\n",
      "\u001b[K     |████████████████████████████████| 58 kB 10.7 MB/s eta 0:00:01\n",
      "\u001b[?25hRequirement already satisfied: scipy>=0.18.1 in /Users/ganeshbabu/opt/anaconda3/lib/python3.9/site-packages (from gensim) (1.7.1)\n",
      "Installing collected packages: smart-open, gensim\n",
      "Successfully installed gensim-4.2.0 smart-open-6.0.0\n",
      "Note: you may need to restart the kernel to use updated packages.\n"
     ]
    }
   ],
   "source": [
    "pip install gensim"
   ]
  },
  {
   "cell_type": "code",
   "execution_count": 1,
   "id": "d2c09fb2-b423-472c-90a1-17d1f3f1a165",
   "metadata": {},
   "outputs": [
    {
     "name": "stdout",
     "output_type": "stream",
     "text": [
      "Cosine similarity between 'alice' and 'wonderland' - CBOW :  0.97572863\n",
      "Cosine similarity between 'alice' and 'machines' - CBOW :  0.8634197\n",
      "Cosine similarity between 'alice' and 'wonderland' - Skip Gram :  0.67154956\n",
      "Cosine similarity between 'alice' and 'machines' - Skip Gram :  0.8231597\n"
     ]
    }
   ],
   "source": [
    "# Python program to generate word vectors using Word2Vec\n",
    "\n",
    "# importing all necessary modules\n",
    "from nltk.tokenize import sent_tokenize, word_tokenize\n",
    "import warnings\n",
    "\n",
    "warnings.filterwarnings(action = 'ignore')\n",
    "\n",
    "import gensim\n",
    "from gensim.models import Word2Vec\n",
    "\n",
    "# Reads ‘alice.txt’ file\n",
    "sample = open(\"/Users/ganeshbabu/Downloads/alice.txt\", encoding=\"utf8\")\n",
    "s = sample.read()\n",
    "\n",
    "# Replaces escape character with space\n",
    "f = s.replace(\"\\n\", \" \")\n",
    "\n",
    "data = []\n",
    "\n",
    "# iterate through each sentence in the file\n",
    "for i in sent_tokenize(f):\n",
    "\ttemp = []\n",
    "\t\n",
    "\t# tokenize the sentence into words\n",
    "\tfor j in word_tokenize(i):\n",
    "\t\ttemp.append(j.lower())\n",
    "\n",
    "\tdata.append(temp)\n",
    "\n",
    "# Create CBOW model\n",
    "model1 = gensim.models.Word2Vec(data, min_count = 1,\n",
    "\t\t\t\t\t\t\tvector_size = 100, window = 5)\n",
    "\n",
    "# Print results\n",
    "print(\"Cosine similarity between 'alice' \" +\n",
    "\t\t\t\"and 'wonderland' - CBOW : \",\n",
    "\tmodel1.wv.similarity('alice', 'wonderland'))\n",
    "\t\n",
    "print(\"Cosine similarity between 'alice' \" +\n",
    "\t\t\t\t\"and 'machines' - CBOW : \",\n",
    "\tmodel1.wv.similarity('alice', 'machines'))\n",
    "\n",
    "# Create Skip Gram model\n",
    "model2 = gensim.models.Word2Vec(data, min_count = 1, vector_size = 100,\n",
    "\t\t\t\t\t\t\t\t\t\t\twindow = 5, sg = 1)\n",
    "\n",
    "# Print results\n",
    "print(\"Cosine similarity between 'alice' \" +\n",
    "\t\t\"and 'wonderland' - Skip Gram : \",\n",
    "\tmodel2.wv.similarity('alice', 'wonderland'))\n",
    "\t\n",
    "print(\"Cosine similarity between 'alice' \" +\n",
    "\t\t\t\"and 'machines' - Skip Gram : \",\n",
    "\tmodel2.wv.similarity('alice', 'machines'))"
   ]
  },
  {
   "cell_type": "code",
   "execution_count": 2,
   "id": "1bee5b19-1648-41fd-8cc7-332fc7d428be",
   "metadata": {},
   "outputs": [],
   "source": [
    "# Python program to generate word vectors using Word2Vec\n",
    "\n",
    "# importing all necessary modules\n",
    "from nltk.tokenize import sent_tokenize, word_tokenize\n",
    "import warnings\n",
    "\n",
    "warnings.filterwarnings(action = 'ignore')\n",
    "\n",
    "import gensim\n",
    "from gensim.models import Word2Vec\n",
    "\n",
    "# Reads ‘alice.txt’ file\n",
    "sample = open(\"/Users/ganeshbabu/Downloads/main.txt\", encoding=\"utf8\")\n",
    "s = sample.read()\n",
    "\n",
    "# Replaces escape character with space\n",
    "f = s.replace(\"\\n\", \" \")\n",
    "\n",
    "data = []\n",
    "\n",
    "# iterate through each sentence in the file\n",
    "for i in sent_tokenize(f):\n",
    "\ttemp = []\n",
    "\t\n",
    "\t# tokenize the sentence into words\n",
    "\tfor j in word_tokenize(i):\n",
    "\t\ttemp.append(j.lower())\n",
    "\n",
    "\tdata.append(temp)\n",
    "    \n",
    "\n",
    "\n",
    "\n",
    "# Create CBOW model\n",
    "model1 = gensim.models.Word2Vec(data, min_count = 1,\n",
    "\t\t\t\t\t\t\tvector_size = 100, window = 5)\n",
    "\n",
    "# Print results\n",
    "# print(\"Cosine similarity between 'alice' \" +\n",
    "# \t\t\t\"and 'wonderland' - CBOW : \",\n",
    "# \tmodel1.wv.similarity('alice', 'wonderland'))\n",
    "\t\n",
    "# print(\"Cosine similarity between 'alice' \" +\n",
    "# \t\t\t\t\"and 'machines' - CBOW : \",\n",
    "# \tmodel1.wv.similarity('alice', 'machines'))\n",
    "\n",
    "# Create Skip Gram model\n",
    "model2 = gensim.models.Word2Vec(data, min_count = 1, vector_size = 100,\n",
    "\t\t\t\t\t\t\t\t\t\t\twindow = 5, sg = 1)\n",
    "\n",
    "# Print results\n",
    "# print(\"Cosine similarity between 'alice' \" +\n",
    "# \t\t\"and 'wonderland' - Skip Gram : \",\n",
    "# \tmodel2.wv.similarity('alice', 'wonderland'))\n",
    "\t\n",
    "# print(\"Cosine similarity between 'alice' \" +\n",
    "# \t\t\t\"and 'machines' - Skip Gram : \",\n",
    "# \tmodel2.wv.similarity('alice', 'machines'))"
   ]
  },
  {
   "cell_type": "code",
   "execution_count": 6,
   "id": "084c998a-7e03-4824-ac08-363aa19bd8e0",
   "metadata": {},
   "outputs": [
    {
     "name": "stdout",
     "output_type": "stream",
     "text": [
      "[\"'this\", 'palm', 'has', 'not', 'grown', 'a', 'bit', 'all', 'these', 'months', ',', \"'\", 'said', 'the', 'creeper', 'laughing', '.']\n",
      "['the', 'palm-tree', 'retorted', ':', \"'\", 'i', 'have', 'seen', 'tens', 'of', 'thousands', 'of', 'creepers', 'in', 'my', 'life', '.']\n",
      "['each', 'creeper', 'before', 'you', 'said', 'the', 'same', 'thing', 'as', 'you', 'have', 'now', 'said', '.']\n",
      "['i', 'do', 'not', 'know', 'what', 'to', 'say', 'to', 'you', \"'\", '.']\n",
      "['our', 'religion', 'is', 'like', 'this', 'tree', 'in', 'relation', 'to', 'other', 'faiths', '.', \"''\"]\n",
      "['we', 'were', 'fortunate', 'to', 'have', 'lived', 'in', 'the', 'times', ',', 'and', 'to', 'have', 'had', 'frequent', 'darshans', ',', 'of', 'one', 'with', 'such', '``', 'illuminated', 'consciousness', \"''\", ',', 'whose', 'nearly', '100-year-', 'long', 'pilgrimage', 'on', 'earth', 'ended', 'on', 'january', '8', ',', '1994', '.']\n",
      "['he', 'was', 'a', 'realized', 'soul', ',', 'and', 'whenever', 'he', 'spoke', ',', 'he', 'spoke', 'in', 'the', 'accents', 'of', 'the', 'vedic', 'seers', 'precise', ',', 'profound', 'and', 'authentic', 'words', 'that', 'found', 'a', 'permanent', 'lodgment', 'in', 'the', 'hearts', 'of', 'his', 'listeners', '.']\n",
      "['the', 'mahaswami', \"'s\", 'words', 'of', 'distilled', 'wisdom', ',', 'as', 'compiled', 'by', 'his', 'ardent', 'devotee', 'sri', 'ra', '.']\n",
      "['ganapati', 'run', 'into', 'six', 'volumes', 'covering', 'more', 'than', '6,500', 'pages', '.']\n",
      "['sri', 'ra', '.']\n",
      "['ganapati', 'and', 'sri', 'a.', 'tirunavukkarasu', 'of', 'vanadi', 'padippakam', ',', 'the', 'publisher', ',', 'deserve', 'our', 'eternal', 'gratitude', 'for', 'their', 'invaluable', 'efforts', 'to', 'preserve', 'for', 'posterity', 'the', 'sage', 'of', 'kanchi', \"'s\", 'words', 'of', 'wisdom', '.']\n",
      "['being', 'in', 'tamil', ',', 'these', 'volumes', ',', 'with', 'their', 'precious', 'content', ',', 'remain', 'a', 'closed', 'book', 'to', 'tens', 'of', 'thousands', 'of', 'devotees', 'in', 'india', 'and', 'abroad', 'who', 'do', 'not', 'know', 'that', 'language', 'but', 'are', 'athirst', 'and', 'ever-yearning', 'for', 'the', 'mahaswami', \"'s\", 'spiritual', 'ambrosia', '.']\n",
      "['the', 'english', 'versions', 'of', 'selected', 'discourses', ',', 'which', 'have', 'so', 'far', 'appeared', 'in', 'book-form', ',', 'touch', 'but', 'a', 'fringe', 'of', 'what', 'the', 'mahaswami', 'has', 'said', 'about', 'sanatana', 'dharma', '.']\n",
      "['the', 'bhavan', ',', 'too', ',', 'has', 'had', 'the', 'privilege', 'of', 'contributing', 'its', 'humble', 'mite', 'in', 'this', 'direction', '-', 'we', 'have', 'published', 'aspects', 'of', 'our', 'religion', ',', 'the', 'vedas', ',', 'adi', 'sankara', ':', 'his', 'life', 'and', 'times', ',', 'the', 'guru', 'tradition', 'and', 'kanchi', 'mahaswami', 'on', 'poets', 'and', 'poetry', '.']\n",
      "['this', 'volume', 'of', 'nearly', '800', 'pages', 'has', 'been', 'rendered', 'into', 'english', 'from', 'the', 'tamil', 'by', 'r.g.k', '.']\n",
      "['it', 'is', 'a', 'monumental', 'effort', 'reflecting', 'enormous', ',', 'dedicated', 'and', 'unremitting', 'labour', 'over', 'a', 'long', 'period', 'of', 'time', '.']\n",
      "['in', 'translation', ',', 'the', 'transformation', 'is', 'normally', 'from', 'gold', 'to', 'lead', 'but', 'r.g.k', '.']\n",
      "['has', 'ensured', 'that', 'the', 'sheen', 'of', 'the', 'original', 'is', 'retained', '.']\n",
      "['he', 'has', 'also', 'spared', 'no', 'pains', 'to', 'explain', 'obscure', 'points', 'of', 'legend', ',', 'puranic', 'allusions', 'and', 'scriptural', 'references', 'covering', 'both', 'sruti', 'and', 'smrti', '.']\n",
      "['we', 'are', 'thankful', 'to', 'justice', 'sri', 'p.s', '.']\n",
      "['mishra', ',', 'at', 'present', 'chief', 'justice', 'of', 'andhra', 'pradesh', ',', 'for', 'his', 'illuminating', 'foreword', 'and', 'sri', 'a.', 'kuppuswami', 'for', 'his', 'learned', 'introduction', '.']\n",
      "['the', 'bhavan', 'has', 'been', 'the', 'blessed', 'recipient', 'of', 'the', 'mahaswami', \"'s\", 'grace', 'right', 'from', 'its', 'inception', 'in', '1938', '.']\n",
      "['he', 'has', 'been', 'one', 'of', 'the', 'bhavan', \"'s\", 'greatest', 'guides', 'and', 'philosophers', '.']\n",
      "['he', 'very', 'closely', 'watched', 'with', 'a', 'benign', 'concern', 'that', 'landmark', 'projects', 'of', 'the', 'bhavan', 'like', 'the', 'monumental', '11-volume', 'history', 'and', 'culture', 'of', 'the', 'indian', 'people', 'covering', 'nearly', '5,000', 'years', 'from', 'the', 'vedic', 'age', 'to', 'the', 'modern', 'age', '.']\n",
      "['this', 'is', 'the', 'only', 'comprehensive', 'history', 'of', 'india', 'written', 'by', 'indians', '-', 'a', 'team', 'of', '100', 'eminent', 'scholars', ',', 'each', 'a', 'specialist', 'in', 'his', 'chosen', 'field', '.']\n",
      "['they', 'laboured', 'on', 'it', 'for', '32', 'years', 'under', 'the', 'inspiration', 'and', 'guidance', 'of', 'kulapati', 'munshi', ',', 'with', 'the', 'doyen', 'of', 'indian', 'historians', 'dr.romesh', 'chandra', 'majumdar', 'as', 'general', 'editor', '.']\n",
      "['the', 'jagadguru', 'then', 'observed', ':', '``', 'distinguished', 'historians', 'like', 'k.m', '.']\n",
      "['munshi', 'are', 'engaged', 'in', 'writing', 'afresh', 'our', 'history', 'without', 'any', 'bias', \"''\", '.']\n",
      "['commending', 'kulapati', 'munshi', \"'s\", 'ceaseless', 'efforts', 'through', 'the', 'bhavan', 'for', 'the', 'revival', 'of', 'sanskrit', ',', 'of', 'india', \"'s\", 'ages-old', 'traditions', 'and', 'the', 'resuscitation', 'of', 'ethical', 'and', 'spiritual', 'values', 'embedded', 'in', 'sanatana', 'dharma', ',', 'the', 'mahaswami', 'remarked', ':', '``', 'munshi', 'is', 'not', 'an', 'old', 'fashioned', 'sanatanist', 'like', 'me', '.']\n",
      "['he', 'is', 'a', 'reformist', 'and', 'a', 'friend', 'and', 'follower', 'of', 'gandhiji', '.']\n",
      "['and', 'he', 'was', 'a', 'member', 'of', 'the', 'nehru', 'cabinet', '.']\n",
      "['so', 'he', 'can', 'not', 'be', 'included', 'among', 'the', '‘', 'reactionaries', '’', '!', \"''\"]\n",
      "['during', 'the', 'bhavan', \"'s\", 'silver', 'jubilee', 'in', '1962', ',', 'the', 'mahaswami', 'sent', 'the', 'following', 'benediction', ':', 'the', 'bharatiya', 'vidya', 'bhavan', 'has', 'made', 'the', 'people', 'of', 'bharata', 'varsa', 'in', 'general', 'and', 'the', 'intellectuals', 'in', 'particular', 'evince', 'interest', 'in', 'the', 'various', 'aspects', 'of', 'our', 'culture', 'and', 'progress', '.']\n",
      "['``', 'may', 'we', 'pray', ':', 'give', 'fresh', 'vigor', 'to', 'the', 'bhavan', ',', 'a', 'unique', 'institution', ',', 'in', 'directing', 'its', 'attention', 'more', 'and', 'more', ',', 'with', 'greater', 'and', 'greater', 'fulfillment', ',', 'to', 'the', 'dissemination', 'of', 'moral', 'principles', 'and', 'devotion', '.', \"''\"]\n",
      "['he', 'also', 'sent', 'along', 'with', 'it', 'a', 'cash', '``', 'donation', \"''\", 'of', 'rs1,000', '.']\n",
      "['kulapti', 'munshi', 'shed', 'copious', 'tears', 'of', 'joy', 'and', 'exclaimed', 'in', 'ecstasy', ':', '``', 'this', 'is', 'the', 'holiest', 'of', 'holy', 'prasads', '.']\n",
      "['this', 'is', 'invaluable', ',', 'inestimable', 'and', 'much', 'more', 'than', 'several', 'thousand', 'crores', 'of', 'rupees', '.']\n",
      "['nothing', ',', 'nothing', ',', 'can', 'surpass', 'divine', 'grace', '.', \"''\"]\n",
      "['the', 'mahaswami', 'brings', 'out', 'the', 'essentials', 'of', 'sanatana', 'dharma', 'in', 'a', 'language', 'that', 'is', 'at', 'once', 'simple', 'and', 'clear', '.']\n",
      "['commendable', 'indeed', 'is', 'the', 'cogency', 'of', 'the', 'narrative', '.']\n",
      "['we', 'are', 'left', 'in', 'no', 'doubt', 'about', 'any', 'aspect', 'of', 'out', 'eternal', 'dharma', '.']\n",
      "['as', 'will', 'be', 'seen', 'in', 'this', 'volume', ',', 'the', 'mahaswami', \"'s\", 'approach', 'is', 'catholic', '.']\n",
      "['he', 'avers', ':', '``', 'the', 'goal', 'of', 'all', 'religions', 'is', 'to', 'lead', 'people', 'to', 'the', 'paramatman', 'according', 'to', 'the', 'different', 'attitudes', 'of', 'the', 'devotees', 'concerned', '.']\n",
      "['our', 'forefathers', 'were', 'well', 'aware', 'that', 'all', 'religions', 'are', 'different', 'paths', 'to', 'realize', 'the', 'one', 'and', 'only', 'paramatman', '.', \"''\"]\n",
      "['more', 'than', 'a', 'century', 'ago', ',', 'in', '1893', ',', 'did', 'not', 'swami', 'vivekananda', 'thunder', 'at', 'the', 'world', 'parliament', 'of', 'religions', 'in', 'chicago', 'that', '``', 'mankind', 'ought', 'to', 'be', 'taught', 'that', 'religions', 'are', 'but', 'the', 'varied', 'expressions', 'of', 'the', 'religion', ',', 'which', 'is', 'oneness', ',', 'so', 'that', 'each', 'may', 'choose', 'the', 'path', 'that', 'suits', 'him', 'best', \"''\", '?']\n",
      "['the', 'discovery', 'of', 'india', 'by', 'jawaharlal', 'nehru', ',', 'the', 'political', 'monarch', 'of', 'modern', 'india', 'and', 'free', 'india', \"'s\", 'first', 'prime', 'minister', '(', '1947-1964', ')', ',', 'inspired', 'the', 'people', 'of', 'india', ',', 'particularly', 'its', 'youth', ',', 'to', 'regain', 'our', 'political', 'freedom', '.']\n",
      "['this', 'was', 'true', 'also', 'of', 'the', 'people', ',', 'particularly', 'the', 'young', ',', 'of', 'many', 'nations', 'of', 'south-east', 'asia', 'and', 'africa', 'then', 'under', 'foreign', 'domination', '.']\n",
      "['the', 'eminent', 'historian', ',', 'parliamentarian', 'and', 'author', 'of', 'several', 'scholarly', 'volumes', 'such', 'as', 'the', 'bhavan', \"'s\", 'publications', ':', 'the', 'fundamental', 'unity', 'of', 'india', '(', 'first', 'published', 'in', 'london', 'in', '1914', 'with', 'a', 'foreword', 'by', 'the', 'rt', \"hon'ble\", 'j.', 'ramsay', 'macdonald', ',', 'first', 'labour', 'prime', 'minister', 'of', 'britain', ',', '1929', '(', 'he', 'was', 'also', 'p.m.', 'during', '1929-35', ')', 'and', 'hindu', 'civilization', ',', 'dr', 'radha', 'kumud', 'mookerji', ',', 'has', 'pointed', 'out', 'the', 'uniqueness', 'of', 'the', 'vedas', ',', 'especially', 'the', 'rgveda', ',', 'thus', ':', '``', 'the', 'vedas', ',', 'and', 'especially', 'the', 'primordial', 'work', 'known', 'as', 'the', 'rgveda', ',', 'represent', 'not', 'merely', 'the', 'dawn', 'of', 'culture', ',', 'but', 'also', 'its', 'zenith', '.']\n",
      "['indian', 'thought', 'is', 'seen', 'at', 'its', 'highest', 'in', 'the', 'rigveda', '...', 'on', 'the', 'one', 'hand', 'it', 'is', 'the', 'first', 'book', 'of', 'india', 'and', 'also', 'of', 'mankind', '.']\n",
      "['at', 'the', 'same', 'time', ',', 'it', 'shows', 'the', 'highest', 'point', 'of', 'human', 'wisdom', '.']\n",
      "['we', 'see', 'in', 'it', 'the', 'whole', 'process', 'of', 'evolution', ',', 'from', 'its', 'beginning', 'to', 'its', 'completion', '.', \"''\"]\n",
      "['ekam', 'sad', 'vipra', 'bahudha', 'vadanti', '(', 'the', 'truth', 'is', 'one', ',', 'the', 'wise', 'speak', 'of', 'it', 'in', 'different', 'ways', ')', '.']\n",
      "['this', 'volume', 'hindu', 'dharma', ':', 'the', 'universal', 'way', 'of', 'life', 'is', 'in', 'the', 'nature', 'of', 'a', 'discovery', 'of', 'vedic', 'india', ',', 'immortal', 'india', ',', 'by', 'pujyasri', 'chandrasekharendra', 'saraswati', ',', 'the', 'moral', 'monarch', 'of', 'this', 'century', '.']\n",
      "['sooner', 'than', 'later', ',', 'this', 'is', 'bound', 'to', 'immensely', 'inspire', 'not', 'only', 'the', 'people', 'and', 'youth', 'of', 'india', 'but', 'also', 'the', 'people', 'and', 'youth', 'of', 'the', 'world', 'over', 'to', 'restore', 'and', 'retain', 'values', ',', 'purity', 'and', 'sanity', 'in', 'personal', 'and', 'public', 'life', '.']\n",
      "['this', 'is', 'our', 'hope', 'and', 'prayer', ',', 'nay', 'conviction', '.']\n",
      "['vedokhilo', 'dharmaulam', ';', 'dharmo', 'rakshati', 'rakshitah', '-', 'the', 'vedas', 'are', 'the', 'root', 'of', 'all', 'dharma', ';', 'dharma', 'protected', ',', 'protects', '.']\n",
      "['s.', 'ramakrishnan', ',', 'general', 'editor', 'bharatiya', 'vidya', 'bhavan', ',', 'bombay', '101st', 'mahaswami', 'jayanti', 'june', '12', ',', '1995', 'introduction', 'the', 'word', '``', 'introduction', \"''\", ',', 'used', 'with', 'reference', 'to', 'a', 'publication', ',', 'signifies', '``', 'the', 'preliminary', 'matter', \"''\", 'prefixed', 'to', 'it', '.']\n",
      "['does', 'the', 'present', 'work', ',', 'comprising', 'as', 'it', 'does', 'the', 'discourses', 'on', 'hindu', 'dharma', ',', 'or', 'more', 'properly', 'veda', 'dharma', ',', 'delivered', 'by', 'the', 'greatest', 'spiritual', 'luminary', 'of', 'the', 'century', '(', 'that', 'is', 'the', 'sage', 'of', 'kanchi', ')', 'and', 'translated', 'into', 'english', 'by', 'a', 'seasoned', 'writer', ',', 'need', 'an', 'introduction', '?']\n",
      "['for', 'days', 'this', 'was', 'the', 'question', 'that', 'revolved', 'in', 'my', 'mind', 'following', 'the', 'request', 'made', 'by', 'sri', 'r.g.k.', ',', 'that', 'i', 'should', 'write', 'an', 'introduction', 'to', 'this', 'translation', '.']\n",
      "['(', 'sri', 'r.g.k', ',', 'a', 'good', 'friend', 'of', 'mine', ',', 'was', 'formerly', 'assistant', 'editor', 'of', 'the', 'illustrated', 'weekly', 'of', 'india', '.', ')']\n",
      "['i', 'felt', 'that', 'i', 'was', 'not', 'qualified', 'for', 'the', 'job', 'of', 'writing', 'the', 'introduction', '.']\n",
      "['i', 'was', 'reminded', 'of', 'the', 'short', 'introduction', 'i', 'had', 'written', 'to', 'the', 'guru', 'tradition', 'which', 'also', 'incorporates', 'the', 'discourses', 'of', 'the', 'sage', 'of', 'kanchi', 'and', 'which', 'is', 'also', 'translated', 'by', 'sri', 'r.g.k', '.']\n",
      "['-', 'this', 'book', 'was', 'published', 'in', '1991', '.']\n",
      "['i', 'should', 'like', 'to', 'quote', 'a', 'sentence', 'from', 'it', ':', '``', 'it', 'is', 'only', 'the', 'devotion', 'to', 'the', 'sacred', 'feet', 'of', 'the', 'great', 'guru', 'of', 'kanchi', ',', 'implanted', 'in', 'my', 'heart', 'in', 'my', 'boyhood', 'days', 'and', 'nurtured', 'during', 'the', 'past', 'six', 'decades', 'and', 'more', ',', 'combined', 'with', 'the', 'persistent', 'desire', 'of', 'the', 'translator', '(', 'an', 'esteemed', 'friend', ')', ',', 'that', 'has', 'embolded', 'me', 'to', 'pen', 'this', 'short', 'piece', 'which', 'is', 'but', 'an', 'apology', 'for', 'an', 'introduction', '.', \"''\"]\n",
      "['as', 'desired', 'by', 'the', 'translator', ',', 'i', 'have', 'gone', 'through', 'the', 'entire', 'typescript', 'of', 'hindu', 'dharma', 'and', 'this', 'gives', 'me', 'the', 'courage', 'to', 'write', 'a', 'few', 'lines', 'by', 'the', 'way', 'of', 'a', 'preliminary', 'note', '.']\n",
      "['the', 'lectures', 'delivered', 'decades', 'ago', 'in', 'tamil', 'by', 'his', 'holiness', 'the', 'sage', 'of', 'kanchi', 'on', 'diverse', 'aspects', 'of', 'our', 'dharma', ',', 'on', 'our', 'ancient', 'culture', 'and', 'our', 'arts', 'and', 'on', 'a', 'variety', 'of', 'other', 'subjects', 'have', 'been', 'brought', 'out', 'in', 'six', 'volumes', 'by', 'vanadi', 'padippakam', ',', 'a', 'well-known', 'publishiing', 'house', 'of', 'madras', '.']\n",
      "['but', 'until', 'now', 'adent', 'followers', 'of', 'hindu', 'dharma', ',', 'who', 'do', 'not', 'know', 'tamil', ',', 'have', 'not', 'had', 'access', 'to', 'these', 'discourses', 'given', 'by', 'the', 'incomparable', 'preceptor', 'of', 'our', 'time', ',', 'discourses', 'that', 'are', 'as', 'extensive', 'and', 'educative', 'as', 'they', 'are', 'enlightening', 'and', 'enchanting', '.']\n",
      "['sri.r.g.k', '.']\n",
      "['deserves', 'the', 'thanks', 'of', 'people', 'living', 'outside', 'tamil', 'nadu', ',', 'both', 'in', 'india', 'and', 'abroad', ',', 'for', 'throwing', 'open', 'to', 'them', 'the', 'treasure-house', 'of', 'the', 'upanyasas', 'of', 'the', 'great', 'acharya', '.']\n",
      "['translating', 'any', 'work', 'from', 'one', 'language', 'into', 'another', 'is', 'an', 'arduous', 'task', ',', 'especially', 'if', 'the', 'work', 'translated', 'consists', 'of', 'the', 'spoken', 'word', '.']\n",
      "['i', 'know', 'for', 'a', 'fact', 'that', 'the', 'translator', 'of', 'this', 'book', 'has', 'toiled', 'for', 'months', 'on', 'end', 'and', 'tried', 'his', 'best', 'to', 'maintain', 'fidelity', 'to', 'the', 'original', '.']\n",
      "['it', 'is', 'my', 'earnest', 'hope', 'that', 'middle-aged', 'people', 'and', 'youngsters', '-', 'particularly', 'teachers', 'and', 'students', '-', 'belonging', 'to', 'regions', 'outside', 'tamil', 'nadu', 'will', 'get', 'copies', 'of', 'hindu', 'dharma', 'and', 'benefit', 'by', 'reading', 'the', 'same', '.']\n",
      "['i', 'would', 'like', 'to', 'make', 'a', 'humble', 'request', 'to', 'the', 'publishers', 'to', 'take', 'such', 'steps', 'as', 'would', 'bring', 'the', 'book', 'within', 'easy', 'reach', 'of', 'all', 'especially', 'teachers', 'and', 'students', '.']\n",
      "['may', 'the', 'divine', 'world', 'mother', 'and', 'the', 'sage', 'of', 'kanchi', ',', 'who', 'remains', 'shining', 'as', 'the', 'all-pervading', '``', 'cit', \"''\", ',', 'grant', 'long', 'life', 'and', 'health', 'to', 'sri', 'r.g.k', 'to', 'enable', 'him', 'to', 'bring', 'out', 'further', 'english', 'translations', 'of', 'the', 'great', 'acharya', \"'s\", 'discourses', '.']\n",
      "['a.', 'kuppuswami', 'kanchipuram', ',', 'march', '10,1995', 'translator', \"'s\", 'note', 'more', 'than', '20', 'years', 'ago', ',', 'i', 'said', 'in', 'an', 'article', 'in', 'the', 'illustrated', 'weekly', 'of', 'india', 'that', '``', 'hindus', 'know', 'less', 'about', 'their', 'religion', 'than', 'christians', 'and', 'muslims', 'know', 'about', 'theirs', \"''\", '.']\n",
      "['wanting', 'to', 'verify', 'the', 'statement', ',', 'my', 'editor', 'sardar', 'khushwant', 'singh', 'asked', 'my', 'colleagues', '(', 'most', 'of', 'them', 'were', 'hindus', ')', ',', 'in', 'school', 'masterly', 'fashion', ',', 'to', 'name', 'any', 'four', 'upanishads', '.']\n",
      "['for', 'moments', 'there', 'was', 'silence', 'and', 'it', 'was', 'a', 'muslim', 'lady', 'member', 'of', 'the', 'staff', 'who', 'eventually', 'responded', 'to', 'the', 'editor', \"'s\", 'question', 'by', '``', 'reeling', 'off', \"''\", 'the', 'names', 'of', 'six', 'or', 'seven', 'upanishads', '.']\n",
      "['why', 'are', '``', 'educated', \"''\", 'hindus', 'ignorant', 'about', 'their', 'religion', '?']\n",
      "['is', 'it', 'their', 'education', 'itself', 'that', 'has', 'alienated', 'them', 'from', 'their', 'religious', 'and', 'cultural', 'moorings', '?']\n",
      "['if', 'so', 'it', 'must', 'be', 'one', 'of', 'the', 'tragic', 'ironies', 'of', 'the', 'indian', 'condition', '.']\n",
      "['the', 'paramaguru', 'himself', 'speaks', 'of', 'our', 'ignorance', 'of', 'the', 'basic', 'texts', 'of', 'our', 'religion', '(', 'chapter', '1', ',', 'part', 'five', ')', ':', '``', 'we', 'must', 'be', 'proud', 'of', 'the', 'fact', 'that', 'our', 'country', 'has', 'produced', 'more', 'men', 'who', 'have', 'found', 'inner', 'bliss', 'than', 'all', 'other', 'countries', 'put', 'together', '.']\n",
      "['it', 'is', 'a', 'matter', 'of', 'shame', 'that', 'we', 'are', 'ignorant', 'of', 'the', 'sastras', 'that', 'they', 'have', 'bequeathed', 'to', 'us', ',', 'the', 'sastras', 'that', 'taught', 'them', 'how', 'to', 'scale', 'the', 'heights', 'of', 'bliss', '.']\n",
      "['many', 'are', 'ignorant', 'about', 'the', 'scripture', 'that', 'is', 'the', 'very', 'source', 'of', 'our', 'religion', '-', 'they', 'do', 'not', 'know', 'even', 'its', 'name', '...', 'our', 'education', 'follows', 'the', 'western', 'pattern', '.']\n",
      "['we', 'want', 'to', 'speak', 'like', 'the', 'white', 'man', ',', 'dress', 'like', 'him', 'and', 'ape', 'him', 'in', 'the', 'matter', 'of', 'manners', 'and', 'customs', '``', 'the', 'fact', 'is', 'that', 'during', 'the', 'past', 'two', 'or', 'three', 'centuries', 'hindus', 'have', 'gone', 'through', 'a', 'process', 'of', 'de-hinduization', 'which', 'in', 'some', 'respects', 'is', 'tantamount', 'to', 'de', 'indianization', '.']\n",
      "['various', 'other', 'reasons', 'are', 'given', 'as', 'to', 'why', 'hindus', 'do', 'not', 'have', 'a', 'clear', 'idea', 'of', 'their', 'religion', '.']\n",
      "['one', 'is', 'that', 'it', 'is', 'not', 'a', 'religion', 'in', 'the', 'sense', 'the', 'term', 'is', 'usually', 'understood', '.']\n",
      "['another', 'is', 'that', 'it', 'is', 'not', 'easily', 'reduced', 'to', 'a', 'catechism', '.']\n",
      "['a', 'third', 'reason', 'is', 'that', ',', 'unlike', 'other', 'faiths', ',', 'it', 'encompasses', 'all', 'life', 'and', 'activity', ',', 'individual', ',', 'social', 'and', 'national', ',', 'and', 'all', 'spheres', 'of', 'knowledge', '.']\n",
      "['hindu', 'dharma', 'is', 'an', 'organic', 'part', 'of', 'the', 'hindu', '.']\n",
      "['it', 'imposes', 'on', 'him', 'a', 'discipline', 'that', 'is', 'inward', 'as', 'well', 'as', 'outward', 'and', 'it', 'is', 'a', 'process', 'of', 'refinement', 'and', 'inner', 'growth', '.']\n",
      "['above', 'all', 'it', 'is', 'a', 'quest', ',', 'the', 'quest', 'for', 'knowing', 'oneself', ',', 'for', 'being', 'oneself', '.']\n",
      "['hindu', 'dharma', ',', 'it', 'must', 'be', 'remembered', ',', 'is', 'but', 'a', 'convenient', 'term', 'for', 'what', 'should', 'ideally', 'be', 'known', 'as', 'veda', 'dharma', 'or', 'sanatana', 'dharma', ',', 'the', 'immemorial', 'religion', '.']\n",
      "['indeed', ',', 'it', 'might', 'be', 'claimed', 'with', 'truth', ',', 'that', 'this', 'dharma', 'is', 'more', 'than', 'a', 'religion', ',', 'that', 'it', 'is', 'an', 'entire', 'civilization', ',', 'the', 'story', 'of', 'man', 'from', 'the', 'very', 'beginnings', 'of', 'time', 'to', 'find', 'an', 'answer', 'to', 'the', 'problems', 'of', 'life', ',', 'the', 'story', 'of', 'that', 'greatest', 'of', 'all', 'adventures', ',', 'that', 'of', 'the', 'human', 'spirit', 'trying', 'to', 'discover', 'its', 'true', 'identity', '.']\n",
      "['``', 'from', 'our', 'total', 'reactions', 'to', 'nature', ',', \"''\", 'says', 'j.w.n', '.']\n",
      "['sullivan', ',', '``', 'science', 'selects', 'a', 'small', 'part', 'only', 'as', 'being', 'relevant', 'to', 'its', 'purpose', '...', \"''\", 'everything', 'is', 'relevant', 'to', 'hinduism', 'because', 'its', '``', 'purposes', \"''\", 'is', 'to', 'know', 'the', 'truth', 'in', 'its', 'entirety', ',', 'not', 'fractions', 'of', 'truth', 'that', 'may', 'have', 'their', 'own', 'purposes', 'but', 'not', 'the', 'great', 'purpose', 'of', 'knitting', 'together', 'everything', 'to', 'arrive', 'at', 'the', 'ultimate', 'knowledge', '.']\n",
      "['it', 'needs', 'a', 'master', 'to', 'speak', 'about', 'such', 'a', 'religion', '.']\n",
      "['we', 'must', 'consider', 'ourselves', 'blessed', 'that', 'we', 'had', 'such', 'a', 'master', 'living', 'in', 'our', 'own', 'time', ',', 'i', 'mean', 'the', 'sage', 'of', 'kanchi', ',', 'pujyasri', 'chandrasekharendra', 'saraswati', 'swami', ',', 'to', 'teach', 'us', 'our', 'dharma', '.']\n",
      "['he', 'was', 'no', 'ordinary', 'master', ',', 'but', 'a', 'master', 'of', 'masters', '.']\n",
      "['this', 'great', 'master', \"'s\", 'discourses', 'on', 'hindu', 'dharma', ',', 'included', 'in', 'volumes', 'i', 'and', 'ii', 'of', 'deivattin', 'kural', ',', 'are', 'divided', 'into', '22', 'parts', '(', 'there', 'are', 'two', 'appendices', 'in', 'addition', ')', 'in', 'this', 'book', '.']\n"
     ]
    }
   ],
   "source": [
    "for i, item in enumerate(data):\n",
    "    if 100 < i < 200:\n",
    "        print(item)"
   ]
  },
  {
   "cell_type": "code",
   "execution_count": 5,
   "id": "98cdc693-6f43-4401-8947-091966a0b2ca",
   "metadata": {},
   "outputs": [
    {
     "name": "stdout",
     "output_type": "stream",
     "text": [
      "Cosine similarity between 'hindu' and 'dharma' - CBOW :  0.92955595\n",
      "Cosine similarity between 'hindu' and 'dharma' - Skip Gram :  0.7821328\n"
     ]
    }
   ],
   "source": [
    "print(\"Cosine similarity between 'hindu' \" +\n",
    "\t\t\t\"and 'dharma' - CBOW : \",\n",
    "\tmodel1.wv.similarity('hindu', 'dharma'))\n",
    "\n",
    "print(\"Cosine similarity between 'hindu' \" +\n",
    "\t\t\"and 'dharma' - Skip Gram : \",\n",
    "\tmodel2.wv.similarity('hindu', 'dharma'))"
   ]
  },
  {
   "cell_type": "code",
   "execution_count": 7,
   "id": "7637978e-11cd-4dbf-aab7-83c4ac8055ca",
   "metadata": {},
   "outputs": [
    {
     "name": "stdout",
     "output_type": "stream",
     "text": [
      "Cosine similarity between 'veda' and 'dharma' - CBOW :  0.9015594\n",
      "Cosine similarity between 'veda' and 'dharma' - Skip Gram :  0.63777494\n"
     ]
    }
   ],
   "source": [
    "print(\"Cosine similarity between 'veda' \" +\n",
    "\t\t\t\"and 'dharma' - CBOW : \",\n",
    "\tmodel1.wv.similarity('veda', 'dharma'))\n",
    "\n",
    "print(\"Cosine similarity between 'veda' \" +\n",
    "\t\t\"and 'dharma' - Skip Gram : \",\n",
    "\tmodel2.wv.similarity('veda', 'dharma'))"
   ]
  },
  {
   "cell_type": "code",
   "execution_count": null,
   "id": "71e89c67-0b57-414a-a079-df483e95d314",
   "metadata": {},
   "outputs": [],
   "source": []
  }
 ],
 "metadata": {
  "kernelspec": {
   "display_name": "Python 3 (ipykernel)",
   "language": "python",
   "name": "python3"
  },
  "language_info": {
   "codemirror_mode": {
    "name": "ipython",
    "version": 3
   },
   "file_extension": ".py",
   "mimetype": "text/x-python",
   "name": "python",
   "nbconvert_exporter": "python",
   "pygments_lexer": "ipython3",
   "version": "3.9.7"
  }
 },
 "nbformat": 4,
 "nbformat_minor": 5
}
